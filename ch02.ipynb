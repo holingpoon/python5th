{
 "cells": [
  {
   "cell_type": "code",
   "execution_count": 1,
   "id": "e27b88ba-255a-4041-9fad-82e69b339f96",
   "metadata": {},
   "outputs": [
    {
     "name": "stdout",
     "output_type": "stream",
     "text": [
      "I could have code like this.\n",
      "This will run.\n"
     ]
    }
   ],
   "source": [
    "# A comment, this is so you can read your program later.\n",
    "# Anything after the # is ignored by python.\n",
    "\n",
    "print(\"I could have code like this.\") # and the comment after is ignored\n",
    "\n",
    "# You can also use a comment to \"disable\" or comment out code:\n",
    "# print(\"This won't run.\")\n",
    "\n",
    "print(\"This will run.\")"
   ]
  }
 ],
 "metadata": {
  "kernelspec": {
   "display_name": "Python 3 (ipykernel)",
   "language": "python",
   "name": "python3"
  },
  "language_info": {
   "codemirror_mode": {
    "name": "ipython",
    "version": 3
   },
   "file_extension": ".py",
   "mimetype": "text/x-python",
   "name": "python",
   "nbconvert_exporter": "python",
   "pygments_lexer": "ipython3",
   "version": "3.13.1"
  }
 },
 "nbformat": 4,
 "nbformat_minor": 5
}
